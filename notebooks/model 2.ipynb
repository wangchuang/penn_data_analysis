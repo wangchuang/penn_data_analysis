{
 "cells": [
  {
   "cell_type": "markdown",
   "metadata": {},
   "source": [
    "# Homework"
   ]
  },
  {
   "cell_type": "markdown",
   "metadata": {},
   "source": [
    "## Module 2\n",
    "\n",
    "#### In this assignment, you will work on movie data from IMDB.\n",
    "- The data includes movies and ratings from the IMDB website\n",
    "- Data File(s): imdb.xlsx\n",
    "\n",
    "#### Data file contains 3 sheets:\n",
    "- “imdb”: contains records of movies and ratings scraped from IMDB website\n",
    "- “countries”: contains the country (of origin) names\n",
    "- “directors”: contains the director names"
   ]
  },
  {
   "cell_type": "code",
   "execution_count": 1,
   "metadata": {},
   "outputs": [],
   "source": [
    "# define location\n",
    "my_input_path = '../input/'\n",
    "\n",
    "# define input name\n",
    "my_input_file_name = 'imdb.xlsx'\n",
    "\n",
    "# define input files\n",
    "my_input_file = my_input_path + my_input_file_name"
   ]
  },
  {
   "cell_type": "code",
   "execution_count": 2,
   "metadata": {},
   "outputs": [
    {
     "data": {
      "text/html": [
       "<div>\n",
       "<style scoped>\n",
       "    .dataframe tbody tr th:only-of-type {\n",
       "        vertical-align: middle;\n",
       "    }\n",
       "\n",
       "    .dataframe tbody tr th {\n",
       "        vertical-align: top;\n",
       "    }\n",
       "\n",
       "    .dataframe thead th {\n",
       "        text-align: right;\n",
       "    }\n",
       "</style>\n",
       "<table border=\"1\" class=\"dataframe\">\n",
       "  <thead>\n",
       "    <tr style=\"text-align: right;\">\n",
       "      <th></th>\n",
       "      <th>movie_title</th>\n",
       "      <th>director_id</th>\n",
       "      <th>country_id</th>\n",
       "      <th>content_rating</th>\n",
       "      <th>title_year</th>\n",
       "      <th>imdb_score</th>\n",
       "      <th>gross</th>\n",
       "      <th>duration</th>\n",
       "    </tr>\n",
       "  </thead>\n",
       "  <tbody>\n",
       "    <tr>\n",
       "      <th>0</th>\n",
       "      <td>The Shawshank RedemptionÊ</td>\n",
       "      <td>34</td>\n",
       "      <td>1</td>\n",
       "      <td>R</td>\n",
       "      <td>1994</td>\n",
       "      <td>9.3</td>\n",
       "      <td>28341469</td>\n",
       "      <td>142</td>\n",
       "    </tr>\n",
       "    <tr>\n",
       "      <th>1</th>\n",
       "      <td>The GodfatherÊ</td>\n",
       "      <td>33</td>\n",
       "      <td>1</td>\n",
       "      <td>R</td>\n",
       "      <td>1972</td>\n",
       "      <td>9.2</td>\n",
       "      <td>134821952</td>\n",
       "      <td>175</td>\n",
       "    </tr>\n",
       "    <tr>\n",
       "      <th>2</th>\n",
       "      <td>The Dark KnightÊ</td>\n",
       "      <td>16</td>\n",
       "      <td>1</td>\n",
       "      <td>PG-13</td>\n",
       "      <td>2008</td>\n",
       "      <td>9.0</td>\n",
       "      <td>533316061</td>\n",
       "      <td>152</td>\n",
       "    </tr>\n",
       "    <tr>\n",
       "      <th>3</th>\n",
       "      <td>The Godfather: Part IIÊ</td>\n",
       "      <td>33</td>\n",
       "      <td>1</td>\n",
       "      <td>R</td>\n",
       "      <td>1974</td>\n",
       "      <td>9.0</td>\n",
       "      <td>57300000</td>\n",
       "      <td>220</td>\n",
       "    </tr>\n",
       "    <tr>\n",
       "      <th>4</th>\n",
       "      <td>The Lord of the Rings: The Return of the KingÊ</td>\n",
       "      <td>83</td>\n",
       "      <td>1</td>\n",
       "      <td>PG-13</td>\n",
       "      <td>2003</td>\n",
       "      <td>8.9</td>\n",
       "      <td>377019252</td>\n",
       "      <td>192</td>\n",
       "    </tr>\n",
       "  </tbody>\n",
       "</table>\n",
       "</div>"
      ],
      "text/plain": [
       "                                      movie_title  director_id  country_id  \\\n",
       "0                       The Shawshank RedemptionÊ           34           1   \n",
       "1                                  The GodfatherÊ           33           1   \n",
       "2                                The Dark KnightÊ           16           1   \n",
       "3                         The Godfather: Part IIÊ           33           1   \n",
       "4  The Lord of the Rings: The Return of the KingÊ           83           1   \n",
       "\n",
       "  content_rating  title_year  imdb_score      gross  duration  \n",
       "0              R        1994         9.3   28341469       142  \n",
       "1              R        1972         9.2  134821952       175  \n",
       "2          PG-13        2008         9.0  533316061       152  \n",
       "3              R        1974         9.0   57300000       220  \n",
       "4          PG-13        2003         8.9  377019252       192  "
      ]
     },
     "execution_count": 2,
     "metadata": {},
     "output_type": "execute_result"
    }
   ],
   "source": [
    "\"\"\" Q1: \n",
    "Load and read the 'imdb.xlsx' file. Read the 'imdb' sheet into a DataFrame, df.\n",
    "\"\"\"\n",
    "\n",
    "import pandas as pd\n",
    "\n",
    "# your code here\n",
    "df = pd.read_excel(my_input_file, sheet_name='imdb')\n",
    "df.head()"
   ]
  },
  {
   "cell_type": "code",
   "execution_count": 3,
   "metadata": {},
   "outputs": [
    {
     "name": "stdout",
     "output_type": "stream",
     "text": [
      "(178, 8)\n"
     ]
    }
   ],
   "source": [
    "\"\"\" Q2: \n",
    "Store the dimensions of the DataFrame as a tuple in a variable called 'shape' and print it.\n",
    "\n",
    "Hint: A tuple is made up of comma separated values inside parenthesis.  e.g. (1, 2)\n",
    "\"\"\"\n",
    "\n",
    "# your code here\n",
    "shape = df.shape\n",
    "print (shape)"
   ]
  },
  {
   "cell_type": "code",
   "execution_count": 4,
   "metadata": {},
   "outputs": [],
   "source": [
    "\"\"\" Q3: \n",
    "Store the column titles and the types of data in variables named 'columns' and 'dtypes', then print them.\n",
    "\"\"\"\n",
    "\n",
    "# your code here\n",
    "columns = df.columns\n",
    "dtypes = df.dtypes"
   ]
  },
  {
   "cell_type": "code",
   "execution_count": 5,
   "metadata": {},
   "outputs": [],
   "source": [
    "\"\"\" Q4: \n",
    "Examine the first 10 rows of data; store them in a variable called first10\n",
    "\"\"\"\n",
    "\n",
    "# your code here\n",
    "first10 = df.head(10)"
   ]
  },
  {
   "cell_type": "code",
   "execution_count": 6,
   "metadata": {},
   "outputs": [],
   "source": [
    "\"\"\" Q5: \n",
    "Examine the first 5 rows of data; store them in a variable called first5\n",
    "\"\"\"\n",
    "\n",
    "# your code here\n",
    "first5 = df.head()"
   ]
  },
  {
   "cell_type": "code",
   "execution_count": 7,
   "metadata": {},
   "outputs": [],
   "source": [
    "\"\"\" Q6: \n",
    "Import the \"directors\" and \"countries\" sheets into their own DataFrames, df_directors and df_countries.\n",
    "\"\"\"\n",
    "\n",
    "# your code here\n",
    "df_directors = pd.read_excel(my_input_file, sheet_name='directors')\n",
    "df_countries = pd.read_excel(my_input_file, sheet_name='countries')"
   ]
  },
  {
   "cell_type": "code",
   "execution_count": 8,
   "metadata": {},
   "outputs": [
    {
     "data": {
      "text/html": [
       "<div>\n",
       "<style scoped>\n",
       "    .dataframe tbody tr th:only-of-type {\n",
       "        vertical-align: middle;\n",
       "    }\n",
       "\n",
       "    .dataframe tbody tr th {\n",
       "        vertical-align: top;\n",
       "    }\n",
       "\n",
       "    .dataframe thead th {\n",
       "        text-align: right;\n",
       "    }\n",
       "</style>\n",
       "<table border=\"1\" class=\"dataframe\">\n",
       "  <thead>\n",
       "    <tr style=\"text-align: right;\">\n",
       "      <th></th>\n",
       "      <th>id</th>\n",
       "      <th>director_name</th>\n",
       "    </tr>\n",
       "  </thead>\n",
       "  <tbody>\n",
       "    <tr>\n",
       "      <th>0</th>\n",
       "      <td>1</td>\n",
       "      <td>Akira Kurosawa</td>\n",
       "    </tr>\n",
       "    <tr>\n",
       "      <th>1</th>\n",
       "      <td>2</td>\n",
       "      <td>Alejandro Amenabar</td>\n",
       "    </tr>\n",
       "    <tr>\n",
       "      <th>2</th>\n",
       "      <td>3</td>\n",
       "      <td>Alejandro G. Inarritu</td>\n",
       "    </tr>\n",
       "    <tr>\n",
       "      <th>3</th>\n",
       "      <td>3</td>\n",
       "      <td>Alejandro G. Inarritu</td>\n",
       "    </tr>\n",
       "    <tr>\n",
       "      <th>4</th>\n",
       "      <td>4</td>\n",
       "      <td>Alfred Hitchcock</td>\n",
       "    </tr>\n",
       "  </tbody>\n",
       "</table>\n",
       "</div>"
      ],
      "text/plain": [
       "   id          director_name\n",
       "0   1         Akira Kurosawa\n",
       "1   2     Alejandro Amenabar\n",
       "2   3  Alejandro G. Inarritu\n",
       "3   3  Alejandro G. Inarritu\n",
       "4   4       Alfred Hitchcock"
      ]
     },
     "execution_count": 8,
     "metadata": {},
     "output_type": "execute_result"
    }
   ],
   "source": [
    "df_directors.head()"
   ]
  },
  {
   "cell_type": "code",
   "execution_count": 9,
   "metadata": {},
   "outputs": [],
   "source": [
    "\"\"\" Q7: \n",
    "Check the \"directors\" sheet\n",
    "1. Count how many records there are based on the \"id\" column. (To get the number of records per \"id\", \n",
    "   use the value_counts method.) Store the result in a variable named count.\n",
    "2. Remove the duplicates from the directors dataframe and store the result in a variable called df_directors_clean.\n",
    "\"\"\"\n",
    "\n",
    "# your code here\n",
    "count = df_directors.id.value_counts()\n",
    "df_directors_clean = df_directors.drop_duplicates()"
   ]
  },
  {
   "cell_type": "code",
   "execution_count": null,
   "metadata": {},
   "outputs": [],
   "source": []
  }
 ],
 "metadata": {
  "kernelspec": {
   "display_name": "Python 3",
   "language": "python",
   "name": "python3"
  },
  "language_info": {
   "codemirror_mode": {
    "name": "ipython",
    "version": 3
   },
   "file_extension": ".py",
   "mimetype": "text/x-python",
   "name": "python",
   "nbconvert_exporter": "python",
   "pygments_lexer": "ipython3",
   "version": "3.8.3"
  }
 },
 "nbformat": 4,
 "nbformat_minor": 4
}
